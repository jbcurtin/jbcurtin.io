{
 "cells": [
  {
   "cell_type": "markdown",
   "metadata": {},
   "source": [
    "# Getting started with K8\n",
    "\n",
    "After years of talking about it, I've started taking the time to really dig into a k8 environment. Having spent most of my career working with AWS. I've opt'd to learn more about GCP this time around. With it, I'm extending my vocabulary and looking into certifications. In the meantime, I'll make regular updates for moving from a Cloud Deployment strategy to Kubernetes."
   ]
  },
  {
   "cell_type": "markdown",
   "metadata": {},
   "source": [
    "To begin, lets become oriented with how to access k8 pods. K8 pods are one of the more common K8 datatypes. They provide a compute resource that'll execute a docker image. Either as a Job, Deployment, CronJob, etc. Pods pretty much do everything inside a K8 cluster.\n",
    "\n",
    "```\n",
    "$ kubectl get pods --namespace=default\n",
    "NAME                                          READY   STATUS      RESTARTS   AGE\n",
    "cassandra-cassandra-0                         1/1     Running     0          45m\n",
    "redis-master-0                                1/1     Running     0          10h\n",
    "```\n",
    "\n",
    "Already installed in the cluster, we have [Apache Cassandra](https://cassandra.apache.org) and [Redis](https://redis.io). To deploy the instances, we're using [helm](https://helm.sh/).\n",
    "\n",
    "Cassandra and Redis are running as a single instance. We're not to worried about availability with this cluster mainly do to it being a utility for scheduled [CronJobs](https://kubernetes.io/docs/concepts/workloads/controllers/cron-jobs/). I'm still interested in monitoring it, lets go ahead and deploy DataDog using helm.\n",
    "\n",
    "```\n",
    "$ helm install data-dog -f values/data-dog.yaml datadog/datadog\n",
    "NAME: data-dog\n",
    "LAST DEPLOYED: Wed Nov 25 23:34:04 2020\n",
    "NAMESPACE: default\n",
    "STATUS: deployed\n",
    "REVISION: 1\n",
    "TEST SUITE: None\n",
    "NOTES:\n",
    "Datadog agents are spinning up on each node in your cluster. After a few\n",
    "minutes, you should see your agents starting in your event stream:\n",
    "    https://app.datadoghq.com/event/stream\n",
    "\n",
    "```\n",
    "\n",
    "Lets check to see how many new pods we have running\n",
    "\n",
    "```\n",
    "$ $ kubectl get pods --namespace=default\n",
    "NAME                                          READY   STATUS      RESTARTS   AGE\n",
    "data-dog-datadog-rgckw                        2/2     Running   0          40m\n",
    "data-dog-kube-state-metrics-8546d8989-rgm4w   1/1     Running   0          40m\n",
    "```\n",
    "\n",
    "Looking good. Lets clean up our cluster a little bit before we finish.\n",
    "\n",
    "```\n",
    "$ kubectl delete pod --field-selector=status.phase==Succeeded\n",
    "```\n"
   ]
  }
 ],
 "metadata": {
  "kernelspec": {
   "display_name": "Python 3",
   "language": "python",
   "name": "python3"
  },
  "language_info": {
   "codemirror_mode": {
    "name": "ipython",
    "version": 3
   },
   "file_extension": ".py",
   "mimetype": "text/x-python",
   "name": "python",
   "nbconvert_exporter": "python",
   "pygments_lexer": "ipython3",
   "version": "3.7.9"
  }
 },
 "nbformat": 4,
 "nbformat_minor": 4
}
