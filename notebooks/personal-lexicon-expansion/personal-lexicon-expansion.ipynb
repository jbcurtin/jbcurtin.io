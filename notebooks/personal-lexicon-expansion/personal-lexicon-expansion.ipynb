{
 "cells": [
  {
   "cell_type": "markdown",
   "metadata": {},
   "source": [
    "# Personal Lexicon Expansion\n",
    "\n",
    "Lexicon expansion can go through several natural phases, for me being autistic and having a hard life. I've had to take a more systematic approach to solving my vocabulary deficit. Years ago I learned about the basics of linguistics and spent time really understanding the experiential affects of what one's brain filters. How is perception guaged and how does perception change the way words are heard.\n",
    "\n",
    "Having started my adult life as a Software Engineer, it seems natural to me that I'd simply collect words to study and put them into a format that is more consumable for retentive learning. The difficulty I've had with completing this task comes from having a long enough period of time to complete the work required to setup the initial process.\n",
    "\n",
    "I'm finally on the last few steps of building this \"book for words\" to improve Autistic lanugage skills to a point where I'll next need rapid iteration with individuals in respective areas. The difficulty I've come across is that, for some reason its easier for me to process written language easier than it is for me to process auditory language. I believe this has something to do with my upbringing and less to do with my Autistic mentality.\n",
    "\n",
    "I've nearly completed the collection process and have choose the distribution process. I'm now working on the Data Science process so that other Autistics can develop opportunity for themselves. I'm going to be providing this software in English, Software, and eventually Japanese so that others can discuss, contribute, or take from it as they see fit. My main limitation right now is not having a corpus of books available to analyze. For now, I'll use social media and [Project Gutenberg](https://www.gutenberg.org/)."
   ]
  }
 ],
 "metadata": {
  "kernelspec": {
   "display_name": "Python 3",
   "language": "python",
   "name": "python3"
  },
  "language_info": {
   "codemirror_mode": {
    "name": "ipython",
    "version": 3
   },
   "file_extension": ".py",
   "mimetype": "text/x-python",
   "name": "python",
   "nbconvert_exporter": "python",
   "pygments_lexer": "ipython3",
   "version": "3.7.9"
  }
 },
 "nbformat": 4,
 "nbformat_minor": 4
}
